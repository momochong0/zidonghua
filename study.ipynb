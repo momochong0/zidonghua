{
 "cells": [
  {
   "cell_type": "markdown",
   "source": [
    "D:\\pythonstudy\\pythonProject\\zidonghua\\venv\\Scripts\\activate.bat\n",
    "D:\\pythonstudy\\pythonProject\\zidonghua\\venv\\Scripts\\python.exe D:/Program Files/JetBrains/PyCharm 2023.1/plugins/python/helpers/packaging_tool.py install drissionpage --index-url https://mirrors.aliyun.com/pypi/simple/"
   ],
   "metadata": {
    "collapsed": false
   }
  },
  {
   "cell_type": "code",
   "execution_count": 1,
   "outputs": [
    {
     "name": "stdout",
     "output_type": "stream",
     "text": [
      "jupyter\n"
     ]
    }
   ],
   "source": [
    "print('jupyter')"
   ],
   "metadata": {
    "collapsed": false
   }
  },
  {
   "cell_type": "code",
   "execution_count": null,
   "outputs": [],
   "source": [],
   "metadata": {
    "collapsed": false
   }
  }
 ],
 "metadata": {
  "language_info": {
   "name": "python"
  },
  "orig_nbformat": 4
 },
 "nbformat": 4,
 "nbformat_minor": 2
}
